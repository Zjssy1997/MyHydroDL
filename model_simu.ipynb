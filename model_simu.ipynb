{
 "cells": [
  {
   "cell_type": "markdown",
   "metadata": {},
   "source": [
    "# 跑水文模型"
   ]
  },
  {
   "cell_type": "markdown",
   "metadata": {},
   "source": [
    "## 数据准备"
   ]
  },
  {
   "cell_type": "code",
   "execution_count": 166,
   "metadata": {},
   "outputs": [],
   "source": [
    "gauge_name = 2350900\n",
    " "
   ]
  },
  {
   "cell_type": "code",
   "execution_count": 167,
   "metadata": {},
   "outputs": [],
   "source": [
    "from heffpy.utils import read_camel as rc"
   ]
  },
  {
   "cell_type": "code",
   "execution_count": 168,
   "metadata": {},
   "outputs": [],
   "source": [
    "import datetime as dt\n",
    "import pandas as pd\n",
    "import os"
   ]
  },
  {
   "cell_type": "code",
   "execution_count": 169,
   "metadata": {},
   "outputs": [
    {
     "name": "stderr",
     "output_type": "stream",
     "text": [
      "C:\\Users\\zjssy\\Anaconda3\\lib\\site-packages\\heffpy\\utils\\read_camel.py:30: SettingWithCopyWarning: \n",
      "A value is trying to be set on a copy of a slice from a DataFrame.\n",
      "Try using .loc[row_indexer,col_indexer] = value instead\n",
      "\n",
      "See the caveats in the documentation: http://pandas.pydata.org/pandas-docs/stable/indexing.html#indexing-view-versus-copy\n",
      "  dfForce[\"TM\"] = date\n"
     ]
    }
   ],
   "source": [
    "met_dir = r\"E:\\CAMELS\\Data\\force\\basin_mean_forcing\\daymet\"\n",
    "\n",
    "# %%\n",
    "start,end = dt.datetime(1985,1,1), \\\n",
    "    dt.datetime(2015,12,31)\n",
    "\n",
    "met_file_path = os.path.join(met_dir,\"%08d_lump_cida_forcing_leap.txt\" % gauge_name)\n",
    "\n",
    "# %%\n",
    "met,lat,elev,area = rc.read_force(met_file_path,start,end)"
   ]
  },
  {
   "cell_type": "code",
   "execution_count": 170,
   "metadata": {},
   "outputs": [
    {
     "data": {
      "text/html": [
       "<div>\n",
       "<style scoped>\n",
       "    .dataframe tbody tr th:only-of-type {\n",
       "        vertical-align: middle;\n",
       "    }\n",
       "\n",
       "    .dataframe tbody tr th {\n",
       "        vertical-align: top;\n",
       "    }\n",
       "\n",
       "    .dataframe thead th {\n",
       "        text-align: right;\n",
       "    }\n",
       "</style>\n",
       "<table border=\"1\" class=\"dataframe\">\n",
       "  <thead>\n",
       "    <tr style=\"text-align: right;\">\n",
       "      <th></th>\n",
       "      <th>dayl</th>\n",
       "      <th>prcp</th>\n",
       "      <th>srad</th>\n",
       "      <th>swe</th>\n",
       "      <th>tmax</th>\n",
       "      <th>tmin</th>\n",
       "      <th>vp</th>\n",
       "      <th>TM</th>\n",
       "    </tr>\n",
       "  </thead>\n",
       "  <tbody>\n",
       "    <tr>\n",
       "      <th>1827</th>\n",
       "      <td>35829.19</td>\n",
       "      <td>0.00</td>\n",
       "      <td>248.62</td>\n",
       "      <td>0.0</td>\n",
       "      <td>24.91</td>\n",
       "      <td>11.91</td>\n",
       "      <td>1393.06</td>\n",
       "      <td>1985-01-01</td>\n",
       "    </tr>\n",
       "    <tr>\n",
       "      <th>1828</th>\n",
       "      <td>35899.58</td>\n",
       "      <td>1.15</td>\n",
       "      <td>194.05</td>\n",
       "      <td>0.0</td>\n",
       "      <td>23.33</td>\n",
       "      <td>13.62</td>\n",
       "      <td>1560.40</td>\n",
       "      <td>1985-01-02</td>\n",
       "    </tr>\n",
       "    <tr>\n",
       "      <th>1829</th>\n",
       "      <td>35940.49</td>\n",
       "      <td>35.04</td>\n",
       "      <td>129.44</td>\n",
       "      <td>0.0</td>\n",
       "      <td>16.72</td>\n",
       "      <td>8.92</td>\n",
       "      <td>1153.85</td>\n",
       "      <td>1985-01-03</td>\n",
       "    </tr>\n",
       "    <tr>\n",
       "      <th>1830</th>\n",
       "      <td>35942.39</td>\n",
       "      <td>16.18</td>\n",
       "      <td>197.40</td>\n",
       "      <td>0.0</td>\n",
       "      <td>12.64</td>\n",
       "      <td>0.14</td>\n",
       "      <td>615.01</td>\n",
       "      <td>1985-01-04</td>\n",
       "    </tr>\n",
       "    <tr>\n",
       "      <th>1831</th>\n",
       "      <td>35942.39</td>\n",
       "      <td>0.00</td>\n",
       "      <td>207.17</td>\n",
       "      <td>0.0</td>\n",
       "      <td>6.52</td>\n",
       "      <td>-2.45</td>\n",
       "      <td>511.80</td>\n",
       "      <td>1985-01-05</td>\n",
       "    </tr>\n",
       "  </tbody>\n",
       "</table>\n",
       "</div>"
      ],
      "text/plain": [
       "          dayl   prcp    srad  swe   tmax   tmin       vp         TM\n",
       "1827  35829.19   0.00  248.62  0.0  24.91  11.91  1393.06 1985-01-01\n",
       "1828  35899.58   1.15  194.05  0.0  23.33  13.62  1560.40 1985-01-02\n",
       "1829  35940.49  35.04  129.44  0.0  16.72   8.92  1153.85 1985-01-03\n",
       "1830  35942.39  16.18  197.40  0.0  12.64   0.14   615.01 1985-01-04\n",
       "1831  35942.39   0.00  207.17  0.0   6.52  -2.45   511.80 1985-01-05"
      ]
     },
     "execution_count": 170,
     "metadata": {},
     "output_type": "execute_result"
    }
   ],
   "source": [
    "met.head()"
   ]
  },
  {
   "cell_type": "code",
   "execution_count": 171,
   "metadata": {},
   "outputs": [],
   "source": [
    "# %%\n",
    "year = met[\"TM\"].apply(lambda x: dt.datetime(x.year,1,1))\n",
    "doy = met[\"TM\"] - year\n",
    "doy = doy.apply(lambda x:x.days).values.astype(\"int32\")"
   ]
  },
  {
   "cell_type": "code",
   "execution_count": 172,
   "metadata": {},
   "outputs": [],
   "source": [
    "Q_dir = r\"E:\\CAMELS\\Data\\streamflow\"\n",
    "q_file_path = os.path.join(Q_dir,\"%08d_streamflow_qc.txt\" % gauge_name)"
   ]
  },
  {
   "cell_type": "code",
   "execution_count": 173,
   "metadata": {},
   "outputs": [],
   "source": [
    "q = rc.read_usgs(q_file_path, start,end)"
   ]
  },
  {
   "cell_type": "code",
   "execution_count": 174,
   "metadata": {},
   "outputs": [
    {
     "data": {
      "text/html": [
       "<div>\n",
       "<style scoped>\n",
       "    .dataframe tbody tr th:only-of-type {\n",
       "        vertical-align: middle;\n",
       "    }\n",
       "\n",
       "    .dataframe tbody tr th {\n",
       "        vertical-align: top;\n",
       "    }\n",
       "\n",
       "    .dataframe thead th {\n",
       "        text-align: right;\n",
       "    }\n",
       "</style>\n",
       "<table border=\"1\" class=\"dataframe\">\n",
       "  <thead>\n",
       "    <tr style=\"text-align: right;\">\n",
       "      <th></th>\n",
       "      <th>TM</th>\n",
       "      <th>Q</th>\n",
       "    </tr>\n",
       "  </thead>\n",
       "  <tbody>\n",
       "    <tr>\n",
       "      <th>0</th>\n",
       "      <td>1985-03-07</td>\n",
       "      <td>14.186740</td>\n",
       "    </tr>\n",
       "    <tr>\n",
       "      <th>1</th>\n",
       "      <td>1985-03-08</td>\n",
       "      <td>13.563770</td>\n",
       "    </tr>\n",
       "    <tr>\n",
       "      <th>2</th>\n",
       "      <td>1985-03-09</td>\n",
       "      <td>12.969116</td>\n",
       "    </tr>\n",
       "    <tr>\n",
       "      <th>3</th>\n",
       "      <td>1985-03-10</td>\n",
       "      <td>12.629314</td>\n",
       "    </tr>\n",
       "    <tr>\n",
       "      <th>4</th>\n",
       "      <td>1985-03-11</td>\n",
       "      <td>12.261195</td>\n",
       "    </tr>\n",
       "  </tbody>\n",
       "</table>\n",
       "</div>"
      ],
      "text/plain": [
       "          TM          Q\n",
       "0 1985-03-07  14.186740\n",
       "1 1985-03-08  13.563770\n",
       "2 1985-03-09  12.969116\n",
       "3 1985-03-10  12.629314\n",
       "4 1985-03-11  12.261195"
      ]
     },
     "execution_count": 174,
     "metadata": {},
     "output_type": "execute_result"
    }
   ],
   "source": [
    "q.head()"
   ]
  },
  {
   "cell_type": "markdown",
   "metadata": {},
   "source": [
    "## 集总式模型"
   ]
  },
  {
   "cell_type": "code",
   "execution_count": 175,
   "metadata": {},
   "outputs": [],
   "source": [
    "from heffpy.hydro import SACSMA,hargreaves,XAJ,HBV"
   ]
  },
  {
   "cell_type": "code",
   "execution_count": 176,
   "metadata": {},
   "outputs": [],
   "source": [
    "from heffpy.calibration.loss import NSCE\n",
    "from heffpy.calibration.optimization import SCEUA"
   ]
  },
  {
   "cell_type": "code",
   "execution_count": 177,
   "metadata": {},
   "outputs": [],
   "source": [
    "from numpy import ndarray"
   ]
  },
  {
   "cell_type": "markdown",
   "metadata": {},
   "source": [
    "### 计算蒸发"
   ]
  },
  {
   "cell_type": "code",
   "execution_count": 178,
   "metadata": {},
   "outputs": [],
   "source": [
    "year = met[\"TM\"].apply(lambda x: dt.datetime(x.year,1,1))\n",
    "doy = met[\"TM\"] - year\n",
    "doy = doy.apply(lambda x:x.days).values.astype(\"int32\")\n",
    "\n",
    "\n",
    "prcp = met.prcp.values\n",
    "tmax = met.tmax.values\n",
    "tmin = met.tmin.values\n",
    "\n",
    "tavg = (tmax + tmin) / 2\n",
    "\n",
    "# %%\n",
    "pet = hargreaves(tmin,tmax, tavg, doy,46.2)"
   ]
  },
  {
   "cell_type": "markdown",
   "metadata": {},
   "source": [
    "## 模型率定和模拟"
   ]
  },
  {
   "cell_type": "code",
   "execution_count": 179,
   "metadata": {},
   "outputs": [],
   "source": [
    "sac = SACSMA(\n",
    "    prcp[0:1000],pet[0:1000],\n",
    "    dt = 24,area = area\n",
    ")\n",
    "\n",
    "xaj = XAJ(\n",
    "    prcp[0:1000],pet[0:1000],\n",
    "    dt = 24,area = area\n",
    ")\n",
    "\n",
    "hbv = HBV(\n",
    "    prcp[0:1000],pet[0:1000],tavg[0:1000],\n",
    "    dt = 24,area = area\n",
    ")\n",
    "\n",
    "sac2 = SACSMA(\n",
    "    prcp,pet,\n",
    "    dt = 24,area = area\n",
    ")\n",
    "\n",
    "xaj2 = XAJ(\n",
    "    prcp,pet,\n",
    "    dt = 24,area = area\n",
    ")\n",
    "\n",
    "hbv2 = HBV(\n",
    "    prcp,pet,tavg,\n",
    "    dt = 24,area = area\n",
    ")"
   ]
  },
  {
   "cell_type": "code",
   "execution_count": 180,
   "metadata": {},
   "outputs": [
    {
     "data": {
      "text/html": [
       "<div>\n",
       "<style scoped>\n",
       "    .dataframe tbody tr th:only-of-type {\n",
       "        vertical-align: middle;\n",
       "    }\n",
       "\n",
       "    .dataframe tbody tr th {\n",
       "        vertical-align: top;\n",
       "    }\n",
       "\n",
       "    .dataframe thead th {\n",
       "        text-align: right;\n",
       "    }\n",
       "</style>\n",
       "<table border=\"1\" class=\"dataframe\">\n",
       "  <thead>\n",
       "    <tr style=\"text-align: right;\">\n",
       "      <th></th>\n",
       "      <th>bu</th>\n",
       "      <th>bl</th>\n",
       "      <th>value</th>\n",
       "    </tr>\n",
       "  </thead>\n",
       "  <tbody>\n",
       "    <tr>\n",
       "      <th>BETA</th>\n",
       "      <td>6.000</td>\n",
       "      <td>1.000</td>\n",
       "      <td>3.5000</td>\n",
       "    </tr>\n",
       "    <tr>\n",
       "      <th>CET</th>\n",
       "      <td>5.000</td>\n",
       "      <td>0.010</td>\n",
       "      <td>2.5050</td>\n",
       "    </tr>\n",
       "    <tr>\n",
       "      <th>FC</th>\n",
       "      <td>600.000</td>\n",
       "      <td>30.000</td>\n",
       "      <td>315.0000</td>\n",
       "    </tr>\n",
       "    <tr>\n",
       "      <th>K0</th>\n",
       "      <td>1.000</td>\n",
       "      <td>0.400</td>\n",
       "      <td>0.7000</td>\n",
       "    </tr>\n",
       "    <tr>\n",
       "      <th>K1</th>\n",
       "      <td>0.200</td>\n",
       "      <td>0.035</td>\n",
       "      <td>0.1175</td>\n",
       "    </tr>\n",
       "    <tr>\n",
       "      <th>K2</th>\n",
       "      <td>0.035</td>\n",
       "      <td>0.020</td>\n",
       "      <td>0.0275</td>\n",
       "    </tr>\n",
       "    <tr>\n",
       "      <th>LP</th>\n",
       "      <td>6.000</td>\n",
       "      <td>0.010</td>\n",
       "      <td>3.0050</td>\n",
       "    </tr>\n",
       "    <tr>\n",
       "      <th>PERC</th>\n",
       "      <td>3.000</td>\n",
       "      <td>0.010</td>\n",
       "      <td>1.5050</td>\n",
       "    </tr>\n",
       "    <tr>\n",
       "      <th>UZL</th>\n",
       "      <td>70.000</td>\n",
       "      <td>15.000</td>\n",
       "      <td>42.5000</td>\n",
       "    </tr>\n",
       "    <tr>\n",
       "      <th>PCORR</th>\n",
       "      <td>1.990</td>\n",
       "      <td>0.010</td>\n",
       "      <td>1.0000</td>\n",
       "    </tr>\n",
       "    <tr>\n",
       "      <th>TT</th>\n",
       "      <td>2.500</td>\n",
       "      <td>-2.500</td>\n",
       "      <td>0.0000</td>\n",
       "    </tr>\n",
       "    <tr>\n",
       "      <th>CFMAX</th>\n",
       "      <td>9.000</td>\n",
       "      <td>1.000</td>\n",
       "      <td>5.0000</td>\n",
       "    </tr>\n",
       "    <tr>\n",
       "      <th>SFCF</th>\n",
       "      <td>0.650</td>\n",
       "      <td>0.200</td>\n",
       "      <td>0.4250</td>\n",
       "    </tr>\n",
       "    <tr>\n",
       "      <th>CFR</th>\n",
       "      <td>0.800</td>\n",
       "      <td>0.000</td>\n",
       "      <td>0.4000</td>\n",
       "    </tr>\n",
       "    <tr>\n",
       "      <th>CWH</th>\n",
       "      <td>1.990</td>\n",
       "      <td>0.010</td>\n",
       "      <td>1.0000</td>\n",
       "    </tr>\n",
       "    <tr>\n",
       "      <th>CS</th>\n",
       "      <td>0.990</td>\n",
       "      <td>0.010</td>\n",
       "      <td>0.5000</td>\n",
       "    </tr>\n",
       "    <tr>\n",
       "      <th>L</th>\n",
       "      <td>5.000</td>\n",
       "      <td>1.000</td>\n",
       "      <td>3.0000</td>\n",
       "    </tr>\n",
       "  </tbody>\n",
       "</table>\n",
       "</div>"
      ],
      "text/plain": [
       "            bu      bl     value\n",
       "BETA     6.000   1.000    3.5000\n",
       "CET      5.000   0.010    2.5050\n",
       "FC     600.000  30.000  315.0000\n",
       "K0       1.000   0.400    0.7000\n",
       "K1       0.200   0.035    0.1175\n",
       "K2       0.035   0.020    0.0275\n",
       "LP       6.000   0.010    3.0050\n",
       "PERC     3.000   0.010    1.5050\n",
       "UZL     70.000  15.000   42.5000\n",
       "PCORR    1.990   0.010    1.0000\n",
       "TT       2.500  -2.500    0.0000\n",
       "CFMAX    9.000   1.000    5.0000\n",
       "SFCF     0.650   0.200    0.4250\n",
       "CFR      0.800   0.000    0.4000\n",
       "CWH      1.990   0.010    1.0000\n",
       "CS       0.990   0.010    0.5000\n",
       "L        5.000   1.000    3.0000"
      ]
     },
     "execution_count": 180,
     "metadata": {},
     "output_type": "execute_result"
    }
   ],
   "source": [
    "hbv.get_parameters()"
   ]
  },
  {
   "cell_type": "code",
   "execution_count": 181,
   "metadata": {},
   "outputs": [],
   "source": [
    "cali_models = {\"xaj\":xaj,\"sac\":sac,\"hbv\":hbv}\n",
    "simu_models = {\"xaj\":xaj2,\"sac\":sac2,\"hbv\":hbv2}\n",
    "cons_loc = [[6],[13,14,15], [9,12]]"
   ]
  },
  {
   "cell_type": "markdown",
   "metadata": {},
   "source": [
    "### 参数优化"
   ]
  },
  {
   "cell_type": "code",
   "execution_count": 182,
   "metadata": {},
   "outputs": [],
   "source": [
    "loss = NSCE(q.Q.values[0:1000], len_warmup= 300)"
   ]
  },
  {
   "cell_type": "code",
   "execution_count": 184,
   "metadata": {},
   "outputs": [
    {
     "name": "stdout",
     "output_type": "stream",
     "text": [
      "0.7466309891746108\n",
      "-0.27812354937699313\n",
      "-0.08763228882447283\n"
     ]
    }
   ],
   "source": [
    "for i in range(3):\n",
    "    model_name = list(cali_models.keys())[i]\n",
    "    sce = SCEUA(\n",
    "        cali_models[model_name], loss,Verbose=False,maxn=100000\n",
    "    )\n",
    "    sce.set_constant_positions(cons_loc[i])\n",
    "    bextx,bestf = sce.run()\n",
    "\n",
    "    print(bestf)\n",
    "    simuQ = simu_models[model_name].excute(bextx)\n",
    "    \n",
    "    q[model_name] = simuQ[0:len(q)]\n",
    "\n",
    "save_dir = os.path.join(\n",
    "    r\"data\",str(gauge_name)\n",
    ")\n",
    "\n",
    "if(not os.path.exists(save_dir)):\n",
    "    os.mkdir(save_dir)\n",
    "\n",
    "q.to_csv(os.path.join(save_dir, \"Q.csv\"))\n",
    "met.to_csv(os.path.join(save_dir, \"Meteo.csv\"))"
   ]
  },
  {
   "cell_type": "code",
   "execution_count": 123,
   "metadata": {},
   "outputs": [
    {
     "data": {
      "text/html": [
       "<div>\n",
       "<style scoped>\n",
       "    .dataframe tbody tr th:only-of-type {\n",
       "        vertical-align: middle;\n",
       "    }\n",
       "\n",
       "    .dataframe tbody tr th {\n",
       "        vertical-align: top;\n",
       "    }\n",
       "\n",
       "    .dataframe thead th {\n",
       "        text-align: right;\n",
       "    }\n",
       "</style>\n",
       "<table border=\"1\" class=\"dataframe\">\n",
       "  <thead>\n",
       "    <tr style=\"text-align: right;\">\n",
       "      <th></th>\n",
       "      <th>parnames</th>\n",
       "      <th>parvalues</th>\n",
       "    </tr>\n",
       "  </thead>\n",
       "  <tbody>\n",
       "    <tr>\n",
       "      <th>0</th>\n",
       "      <td>uztwm</td>\n",
       "      <td>75.500</td>\n",
       "    </tr>\n",
       "    <tr>\n",
       "      <th>1</th>\n",
       "      <td>uzfwm</td>\n",
       "      <td>75.500</td>\n",
       "    </tr>\n",
       "    <tr>\n",
       "      <th>2</th>\n",
       "      <td>lztwm</td>\n",
       "      <td>250.500</td>\n",
       "    </tr>\n",
       "    <tr>\n",
       "      <th>3</th>\n",
       "      <td>lzfpm</td>\n",
       "      <td>500.500</td>\n",
       "    </tr>\n",
       "    <tr>\n",
       "      <th>4</th>\n",
       "      <td>lzfsm</td>\n",
       "      <td>500.500</td>\n",
       "    </tr>\n",
       "    <tr>\n",
       "      <th>5</th>\n",
       "      <td>uzk</td>\n",
       "      <td>0.200</td>\n",
       "    </tr>\n",
       "    <tr>\n",
       "      <th>6</th>\n",
       "      <td>lzpk</td>\n",
       "      <td>0.425</td>\n",
       "    </tr>\n",
       "    <tr>\n",
       "      <th>7</th>\n",
       "      <td>lzsk</td>\n",
       "      <td>0.013</td>\n",
       "    </tr>\n",
       "    <tr>\n",
       "      <th>8</th>\n",
       "      <td>zperc</td>\n",
       "      <td>0.130</td>\n",
       "    </tr>\n",
       "    <tr>\n",
       "      <th>9</th>\n",
       "      <td>rexp</td>\n",
       "      <td>125.500</td>\n",
       "    </tr>\n",
       "    <tr>\n",
       "      <th>10</th>\n",
       "      <td>pfree</td>\n",
       "      <td>0.250</td>\n",
       "    </tr>\n",
       "    <tr>\n",
       "      <th>11</th>\n",
       "      <td>pctim</td>\n",
       "      <td>0.050</td>\n",
       "    </tr>\n",
       "    <tr>\n",
       "      <th>12</th>\n",
       "      <td>adimp</td>\n",
       "      <td>0.050</td>\n",
       "    </tr>\n",
       "    <tr>\n",
       "      <th>13</th>\n",
       "      <td>riva</td>\n",
       "      <td>0.000</td>\n",
       "    </tr>\n",
       "    <tr>\n",
       "      <th>14</th>\n",
       "      <td>side</td>\n",
       "      <td>0.000</td>\n",
       "    </tr>\n",
       "    <tr>\n",
       "      <th>15</th>\n",
       "      <td>rserv</td>\n",
       "      <td>0.300</td>\n",
       "    </tr>\n",
       "    <tr>\n",
       "      <th>16</th>\n",
       "      <td>kc</td>\n",
       "      <td>1.000</td>\n",
       "    </tr>\n",
       "    <tr>\n",
       "      <th>17</th>\n",
       "      <td>CS</td>\n",
       "      <td>0.500</td>\n",
       "    </tr>\n",
       "    <tr>\n",
       "      <th>18</th>\n",
       "      <td>L</td>\n",
       "      <td>3.000</td>\n",
       "    </tr>\n",
       "  </tbody>\n",
       "</table>\n",
       "</div>"
      ],
      "text/plain": [
       "   parnames  parvalues\n",
       "0     uztwm     75.500\n",
       "1     uzfwm     75.500\n",
       "2     lztwm    250.500\n",
       "3     lzfpm    500.500\n",
       "4     lzfsm    500.500\n",
       "5       uzk      0.200\n",
       "6      lzpk      0.425\n",
       "7      lzsk      0.013\n",
       "8     zperc      0.130\n",
       "9      rexp    125.500\n",
       "10    pfree      0.250\n",
       "11    pctim      0.050\n",
       "12    adimp      0.050\n",
       "13     riva      0.000\n",
       "14     side      0.000\n",
       "15    rserv      0.300\n",
       "16       kc      1.000\n",
       "17       CS      0.500\n",
       "18        L      3.000"
      ]
     },
     "execution_count": 123,
     "metadata": {},
     "output_type": "execute_result"
    }
   ],
   "source": [
    "sce.get_best_solution()"
   ]
  },
  {
   "cell_type": "code",
   "execution_count": 124,
   "metadata": {},
   "outputs": [],
   "source": [
    "sce.set_constant_positions([13,14,15])"
   ]
  },
  {
   "cell_type": "code",
   "execution_count": 125,
   "metadata": {},
   "outputs": [],
   "source": [
    "bextx,bestf = sce.run()"
   ]
  },
  {
   "cell_type": "code",
   "execution_count": 126,
   "metadata": {},
   "outputs": [
    {
     "data": {
      "text/plain": [
       "-0.816528545968005"
      ]
     },
     "execution_count": 126,
     "metadata": {},
     "output_type": "execute_result"
    }
   ],
   "source": [
    "bestf"
   ]
  },
  {
   "cell_type": "code",
   "execution_count": 127,
   "metadata": {},
   "outputs": [],
   "source": [
    "sac = SACSMA(\n",
    "    prcp[0:],pet[0:],\n",
    "    dt = 24,area = area\n",
    ")\n",
    "\n",
    "simuQ = sac.excute(bextx)"
   ]
  },
  {
   "cell_type": "code",
   "execution_count": 128,
   "metadata": {},
   "outputs": [
    {
     "data": {
      "text/plain": [
       "<matplotlib.axes._subplots.AxesSubplot at 0x275d4f84da0>"
      ]
     },
     "execution_count": 128,
     "metadata": {},
     "output_type": "execute_result"
    },
    {
     "data": {
      "image/png": "[encoded data removed]",
      "text/plain": [
       "<Figure size 432x288 with 1 Axes>"
      ]
     },
     "metadata": {
      "needs_background": "light"
     },
     "output_type": "display_data"
    }
   ],
   "source": [
    "pd.DataFrame({\"simuQ\":simuQ[400:1000], \"obsQ\":q.Q.values[400:1000]}).plot()"
   ]
  },
  {
   "cell_type": "code",
   "execution_count": null,
   "metadata": {},
   "outputs": [],
   "source": []
  },
  {
   "cell_type": "code",
   "execution_count": null,
   "metadata": {},
   "outputs": [],
   "source": []
  }
 ],
 "metadata": {
  "interpreter": {
   "hash": "008b28a206de24f10ada45bc4b622d46dbab23af1e0217d8258a38d1dcd3d155"
  },
  "kernelspec": {
   "display_name": "Python 3.7.3 ('base')",
   "language": "python",
   "name": "python3"
  },
  "language_info": {
   "codemirror_mode": {
    "name": "ipython",
    "version": 3
   },
   "file_extension": ".py",
   "mimetype": "text/x-python",
   "name": "python",
   "nbconvert_exporter": "python",
   "pygments_lexer": "ipython3",
   "version": "3.7.3"
  },
  "orig_nbformat": 4
 },
 "nbformat": 4,
 "nbformat_minor": 2
}
